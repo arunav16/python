{
 "cells": [
  {
   "cell_type": "code",
   "execution_count": 10,
   "metadata": {},
   "outputs": [
    {
     "name": "stdout",
     "output_type": "stream",
     "text": [
      "Value is negative\n"
     ]
    }
   ],
   "source": [
    "x = -3\n",
    "\n",
    "if x > 0:\n",
    "    print(\"Value is positive\")\n",
    "\n",
    "elif x < 0:\n",
    "    print(\"Value is negative\")\n",
    "\n",
    "else:\n",
    "    print(\"Value is zero\")"
   ]
  },
  {
   "cell_type": "code",
   "execution_count": 6,
   "metadata": {},
   "outputs": [
    {
     "name": "stdout",
     "output_type": "stream",
     "text": [
      "student has passed in the exam\n"
     ]
    }
   ],
   "source": [
    "name = \"student\"\n",
    "mark = 56\n",
    "\n",
    "if mark < 45:\n",
    "    print(name, \"has failed in the exam\")\n",
    "        \n",
    "else:\n",
    "    print(name, \"has passed in the exam\")\n",
    "        \n"
   ]
  },
  {
   "cell_type": "code",
   "execution_count": 11,
   "metadata": {},
   "outputs": [
    {
     "name": "stdout",
     "output_type": "stream",
     "text": [
      "No\n",
      "Yes\n"
     ]
    }
   ],
   "source": [
    "x = 10\n",
    "\n",
    "if x < 10:\n",
    "    s = \"Yes\"\n",
    "else:\n",
    "    s = \"No\"\n",
    "print(s)\n",
    "\n",
    "# Could also be written onto one line\n",
    "s = \"Yes\" if x < 15 else \"No\"\n",
    "print(s)"
   ]
  },
  {
   "cell_type": "code",
   "execution_count": 12,
   "metadata": {},
   "outputs": [
    {
     "name": "stdout",
     "output_type": "stream",
     "text": [
      "Not in range\n"
     ]
    }
   ],
   "source": [
    "x = 50\n",
    "\n",
    "#if x > 0 and x < 10:\n",
    "if 0 < x < 10: #is also possible\n",
    "    print(\"In range A\")\n",
    "else:\n",
    "    print(\"Not in range\")\n",
    "    \n",
    "#elif x < 0 or x > 10:\n",
    "#    print(\"In range B\")"
   ]
  },
  {
   "cell_type": "code",
   "execution_count": 15,
   "metadata": {},
   "outputs": [
    {
     "name": "stdout",
     "output_type": "stream",
     "text": [
      "[123, 54, 92, 87, 33]\n",
      "Are values of y and x the same? True\n",
      "Are objects y and x the same? False\n",
      "Are values of z and x the same? True\n",
      "Are objects z and x the same? True\n",
      "[123, 23, 92, 87, 33]\n",
      "Are values of y and x the same? False\n",
      "Are objects y and x the same? False\n",
      "Are values of z and x the same? True\n",
      "Are objects z and x the same? True\n",
      "2733250918976\n",
      "2733250920320\n",
      "2733250918976\n"
     ]
    }
   ],
   "source": [
    "x = [123, 54, 92, 87, 33]\n",
    "y = x[:] # y is a copy of x\n",
    "z = x\n",
    "print(x)\n",
    "print(\"Are values of y and x the same?\", y == x)\n",
    "print(\"Are objects y and x the same?\", y is x)\n",
    "print(\"Are values of z and x the same?\", z == x)\n",
    "print(\"Are objects z and x the same?\", z is x)\n",
    "# Let's change x\n",
    "x[1] = 23\n",
    "print(x)\n",
    "print(\"Are values of y and x the same?\", y == x)\n",
    "print(\"Are objects y and x the same?\", y is x)\n",
    "print(\"Are values of z and x the same?\", z == x)\n",
    "print(\"Are objects z and x the same?\", z is x)\n",
    "print(id(x))\n",
    "print(id(y))\n",
    "print(id(z))"
   ]
  },
  {
   "cell_type": "code",
   "execution_count": 22,
   "metadata": {},
   "outputs": [
    {
     "name": "stdout",
     "output_type": "stream",
     "text": [
      "x is true\n",
      "y is false\n"
     ]
    }
   ],
   "source": [
    "x = 'a'      # An empty string\n",
    "y =  [] # A list with one item\n",
    "\n",
    "if x:\n",
    "    print(\"x is true\")\n",
    "else: \n",
    "    print(\"x is false\")     \n",
    "\n",
    "if y:\n",
    "    print(\"y is true\")\n",
    "else:\n",
    "    print(\"y is false\")"
   ]
  }
 ],
 "metadata": {
  "kernelspec": {
   "display_name": "Python 3 (ipykernel)",
   "language": "python",
   "name": "python3"
  },
  "language_info": {
   "codemirror_mode": {
    "name": "ipython",
    "version": 3
   },
   "file_extension": ".py",
   "mimetype": "text/x-python",
   "name": "python",
   "nbconvert_exporter": "python",
   "pygments_lexer": "ipython3",
   "version": "3.9.12"
  }
 },
 "nbformat": 4,
 "nbformat_minor": 1
}
